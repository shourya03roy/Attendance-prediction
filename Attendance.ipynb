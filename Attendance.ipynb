{
  "nbformat": 4,
  "nbformat_minor": 0,
  "metadata": {
    "colab": {
      "provenance": [],
      "mount_file_id": "1WzqXc-woXmBakpOqjmGPNXcBaoc6mzPJ",
      "authorship_tag": "ABX9TyOpYQokd7HNOCQg9qZllhiA",
      "include_colab_link": true
    },
    "kernelspec": {
      "name": "python3",
      "display_name": "Python 3"
    },
    "language_info": {
      "name": "python"
    }
  },
  "cells": [
    {
      "cell_type": "markdown",
      "metadata": {
        "id": "view-in-github",
        "colab_type": "text"
      },
      "source": [
        "<a href=\"https://colab.research.google.com/github/shourya03roy/Attendance-prediction/blob/main/Attendance.ipynb\" target=\"_parent\"><img src=\"https://colab.research.google.com/assets/colab-badge.svg\" alt=\"Open In Colab\"/></a>"
      ]
    },
    {
      "cell_type": "code",
      "source": [
        "import pandas as pd\n",
        "import numpy as np\n",
        "from sklearn.preprocessing import OrdinalEncoder\n",
        "from sklearn.preprocessing import normalize, StandardScaler\n",
        "from sklearn.model_selection import train_test_split\n",
        "from sklearn.linear_model import LogisticRegression\n"
      ],
      "metadata": {
        "id": "P6qxvGftzfaD"
      },
      "execution_count": null,
      "outputs": []
    },
    {
      "cell_type": "code",
      "execution_count": null,
      "metadata": {
        "colab": {
          "base_uri": "https://localhost:8080/"
        },
        "id": "iITglKkBlFEV",
        "outputId": "2e670c77-4ed3-4278-e798-7f316ba29201"
      },
      "outputs": [
        {
          "output_type": "stream",
          "name": "stdout",
          "text": [
            "   Past Attendance Records (%) Course Schedule Weather Conditions  \\\n",
            "0                           93       Afternoon             Cloudy   \n",
            "1                           75         Evening              Sunny   \n",
            "2                           92       Afternoon              Sunny   \n",
            "3                           87         Morning              Sunny   \n",
            "4                           72         Evening             Cloudy   \n",
            "\n",
            "  Day of the Week Extracurricular Activities Academic Performance  \\\n",
            "0         Tuesday                       None                 Good   \n",
            "1       Wednesday              Part-time Job                 Poor   \n",
            "2       Wednesday                     Sports                 Good   \n",
            "3          Monday                       None                 Good   \n",
            "4          Friday                      Music                 Poor   \n",
            "\n",
            "  Proximity to Exams or Assignments Health Status  Absent  \n",
            "0                              High        Unwell       0  \n",
            "1                              High       Healthy       0  \n",
            "2                              High       Healthy       1  \n",
            "3                              High        Unwell       0  \n",
            "4                               Low        Unwell       0   \n",
            "\n",
            "\n"
          ]
        }
      ],
      "source": [
        "  # # Setting random seed for reproducibility\n",
        "  # np.random.seed(42)\n",
        "\n",
        "  # # Generate synthetic data for the dataset\n",
        "  # data = {\n",
        "  #     'Past Attendance Records (%)': np.random.randint(60, 100, size=1000),\n",
        "  #     'Course Schedule': np.random.choice(['Morning', 'Afternoon', 'Evening'], size=1000),\n",
        "  #     'Weather Conditions': np.random.choice(['Clear', 'Rainy'], size=1000),\n",
        "  #     'Day of the Week': np.random.choice(['Monday', 'Tuesday', 'Wednesday', 'Thursday', 'Friday'], size=1000),\n",
        "  #     'Extracurricular Activities': np.random.choice(['None', 'Sports', 'Music', 'Part-time Job'], size=1000),\n",
        "  #     'Academic Performance': np.random.choice(['Poor', 'Average', 'Good'], size=1000),\n",
        "  #     'Proximity to Exams or Assignments': np.random.choice(['Low', 'Medium', 'High'], size=1000),\n",
        "  #     'Health Status': np.random.choice(['Healthy', 'Unwell'], size=1000),\n",
        "  #     'Absent': np.random.randint(0, 2, size=1000)  # Simulating absence (1) or not (0)\n",
        "  # }\n",
        "  np.random.seed(42)\n",
        "\n",
        "  # Generate past attendance records based on academic performance and proximity to exams\n",
        "  academic_performance = np.random.choice(['Poor', 'Average', 'Good'], size=1000)\n",
        "  proximity_to_exams = np.random.choice(['Low', 'Medium', 'High'], size=1000)\n",
        "  past_attendance_records = np.where( (academic_performance == 'Good'),\n",
        "                                    np.concatenate(( np.random.randint(80, 100, size=900),np.random.randint(40, 60, size=100))),\n",
        "                                    np.concatenate((np.random.randint(60, 80, size=250),np.random.randint(20, 40, size=250),np.random.randint(40, 60, size=500))))\n",
        "\n",
        "  # Generate course schedule based on academic performance\n",
        "  course_schedule = np.where(academic_performance == 'Good',\n",
        "                            np.concatenate(( np.random.choice(['Morning', 'Afternoon'], size=900), np.random.choice(['Afternoon'], size=100) )),\n",
        "                            np.random.choice(['Afternoon', 'Evening'], size=1000))\n",
        "\n",
        "\n",
        "  # Generate weather conditions based on day of the week\n",
        "  day_of_the_week = np.random.choice(['Monday', 'Tuesday', 'Wednesday', 'Thursday', 'Friday'], size=1000)\n",
        "  weather_conditions = np.random.choice(['Sunny','Cloudy', 'Rainy'], size=1000)\n",
        "\n",
        "  # Generate extracurricular activities based on academic performance\n",
        "  extracurricular_activities = np.where(academic_performance == 'Good',\n",
        "                                        np.random.choice(['None', 'Sports'], size=1000),\n",
        "                                        np.random.choice(['None', 'Music', 'Part-time Job'], size=1000))\n",
        "\n",
        "  # Generate health status based on extracurricular activities\n",
        "  health_status = np.where(extracurricular_activities == 'Sports',\n",
        "                          np.random.choice(['Healthy', 'Unwell'], size=1000, p=[0.8, 0.2]),\n",
        "                          np.random.choice(['Healthy', 'Unwell'], size=1000))\n",
        "\n",
        "  # Simulate absence based on past attendance records, course schedule, and weather conditions\n",
        "  absent = np.where((past_attendance_records < 50) | ((course_schedule == 'Evening') & (weather_conditions == 'Rainy') & (health_status == 'Unwell')),\n",
        "                    np.random.choice([1, 0], size=1000, p=[0.8, 0.2]),\n",
        "                    np.random.choice([0, 1], size=1000, p=[0.8, 0.2]))\n",
        "\n",
        "  # Create DataFrame\n",
        "  data = {\n",
        "      'Past Attendance Records (%)': past_attendance_records,\n",
        "      'Course Schedule': course_schedule,\n",
        "      'Weather Conditions': weather_conditions,\n",
        "      'Day of the Week': day_of_the_week,\n",
        "      'Extracurricular Activities': extracurricular_activities,\n",
        "      'Academic Performance': academic_performance,\n",
        "      'Proximity to Exams or Assignments': proximity_to_exams,\n",
        "      'Health Status': health_status,\n",
        "      'Absent': absent\n",
        "  }\n",
        "  # Convert data into a DataFrame\n",
        "  df = pd.DataFrame(data)\n",
        "\n",
        "  # Display the first few rows of the dataset\n",
        "  print(df.head(),\"\\n\\n\")"
      ]
    },
    {
      "cell_type": "code",
      "source": [
        "df.to_csv('/content/drive/MyDrive/Colab Notebooks/Attendance.csv', mode='w', index=False)"
      ],
      "metadata": {
        "id": "6fRYZiEqsXXA"
      },
      "execution_count": null,
      "outputs": []
    },
    {
      "cell_type": "code",
      "source": [
        "df = pd.read_csv('/content/drive/MyDrive/Colab Notebooks/Attendance.csv')"
      ],
      "metadata": {
        "id": "lBFTLyJpLOTH"
      },
      "execution_count": null,
      "outputs": []
    },
    {
      "cell_type": "code",
      "source": [
        "# print(df)\n",
        "X = df.iloc[:,:-1]\n",
        "y = df.iloc[:,-1]\n",
        "print(X[:5],\"\\n\\n\",y[:5])"
      ],
      "metadata": {
        "id": "gy46MUErsWas",
        "colab": {
          "base_uri": "https://localhost:8080/"
        },
        "outputId": "9280ada0-37c4-4602-b208-c5395ff0df49"
      },
      "execution_count": null,
      "outputs": [
        {
          "output_type": "stream",
          "name": "stdout",
          "text": [
            "   Past Attendance Records (%) Course Schedule Weather Conditions  \\\n",
            "0                           93       Afternoon             Cloudy   \n",
            "1                           75         Evening              Sunny   \n",
            "2                           92       Afternoon              Sunny   \n",
            "3                           87         Morning              Sunny   \n",
            "4                           72         Evening             Cloudy   \n",
            "\n",
            "  Day of the Week Extracurricular Activities Academic Performance  \\\n",
            "0         Tuesday                       None                 Good   \n",
            "1       Wednesday              Part-time Job                 Poor   \n",
            "2       Wednesday                     Sports                 Good   \n",
            "3          Monday                       None                 Good   \n",
            "4          Friday                      Music                 Poor   \n",
            "\n",
            "  Proximity to Exams or Assignments Health Status  \n",
            "0                              High        Unwell  \n",
            "1                              High       Healthy  \n",
            "2                              High       Healthy  \n",
            "3                              High        Unwell  \n",
            "4                               Low        Unwell   \n",
            "\n",
            " 0    0\n",
            "1    0\n",
            "2    1\n",
            "3    0\n",
            "4    0\n",
            "Name: Absent, dtype: int64\n"
          ]
        }
      ]
    },
    {
      "cell_type": "code",
      "source": [
        "s = (df.dtypes == 'object')\n",
        "object_cols = list(s[s].index)\n",
        "print(object_cols)"
      ],
      "metadata": {
        "id": "1FEJ-NRisWgZ",
        "colab": {
          "base_uri": "https://localhost:8080/"
        },
        "outputId": "c3dbe2de-fc29-4a06-8956-bb0fcd68d2e2"
      },
      "execution_count": null,
      "outputs": [
        {
          "output_type": "stream",
          "name": "stdout",
          "text": [
            "['Course Schedule', 'Weather Conditions', 'Day of the Week', 'Extracurricular Activities', 'Academic Performance', 'Proximity to Exams or Assignments', 'Health Status']\n"
          ]
        }
      ]
    },
    {
      "cell_type": "code",
      "source": [
        "ordinal_encoder = OrdinalEncoder()\n",
        "X[object_cols] = ordinal_encoder.fit_transform(X[object_cols])"
      ],
      "metadata": {
        "id": "lFKk5aCZL8L-"
      },
      "execution_count": null,
      "outputs": []
    },
    {
      "cell_type": "code",
      "source": [
        "print(X)\n",
        "type(X)"
      ],
      "metadata": {
        "colab": {
          "base_uri": "https://localhost:8080/",
          "height": 897
        },
        "id": "-Qymicwwz4L4",
        "outputId": "0688d7a6-563e-4ac9-e8cb-f4a67a1e4db7"
      },
      "execution_count": null,
      "outputs": [
        {
          "output_type": "stream",
          "name": "stdout",
          "text": [
            "     Past Attendance Records (%)  Course Schedule  Weather Conditions  \\\n",
            "0                             93              0.0                 0.0   \n",
            "1                             75              1.0                 2.0   \n",
            "2                             92              0.0                 2.0   \n",
            "3                             87              2.0                 2.0   \n",
            "4                             72              1.0                 0.0   \n",
            "..                           ...              ...                 ...   \n",
            "995                           53              0.0                 0.0   \n",
            "996                           55              1.0                 0.0   \n",
            "997                           48              0.0                 1.0   \n",
            "998                           51              0.0                 2.0   \n",
            "999                           46              0.0                 2.0   \n",
            "\n",
            "     Day of the Week  Extracurricular Activities  Academic Performance  \\\n",
            "0                3.0                         1.0                   1.0   \n",
            "1                4.0                         2.0                   2.0   \n",
            "2                4.0                         3.0                   1.0   \n",
            "3                1.0                         1.0                   1.0   \n",
            "4                0.0                         0.0                   2.0   \n",
            "..               ...                         ...                   ...   \n",
            "995              4.0                         0.0                   0.0   \n",
            "996              0.0                         2.0                   0.0   \n",
            "997              1.0                         1.0                   1.0   \n",
            "998              3.0                         3.0                   1.0   \n",
            "999              0.0                         1.0                   2.0   \n",
            "\n",
            "     Proximity to Exams or Assignments  Health Status  \n",
            "0                                  0.0            1.0  \n",
            "1                                  0.0            0.0  \n",
            "2                                  0.0            0.0  \n",
            "3                                  0.0            1.0  \n",
            "4                                  1.0            1.0  \n",
            "..                                 ...            ...  \n",
            "995                                1.0            1.0  \n",
            "996                                0.0            0.0  \n",
            "997                                2.0            1.0  \n",
            "998                                0.0            0.0  \n",
            "999                                0.0            1.0  \n",
            "\n",
            "[1000 rows x 8 columns]\n"
          ]
        },
        {
          "output_type": "execute_result",
          "data": {
            "text/plain": [
              "pandas.core.frame.DataFrame"
            ],
            "text/html": [
              "<div style=\"max-width:800px; border: 1px solid var(--colab-border-color);\"><style>\n",
              "      pre.function-repr-contents {\n",
              "        overflow-x: auto;\n",
              "        padding: 8px 12px;\n",
              "        max-height: 500px;\n",
              "      }\n",
              "\n",
              "      pre.function-repr-contents.function-repr-contents-collapsed {\n",
              "        cursor: pointer;\n",
              "        max-height: 100px;\n",
              "      }\n",
              "    </style>\n",
              "    <pre style=\"white-space: initial; background:\n",
              "         var(--colab-secondary-surface-color); padding: 8px 12px;\n",
              "         border-bottom: 1px solid var(--colab-border-color);\"><b>pandas.core.frame.DataFrame</b><br/>def __init__(data=None, index: Axes | None=None, columns: Axes | None=None, dtype: Dtype | None=None, copy: bool | None=None) -&gt; None</pre><pre class=\"function-repr-contents function-repr-contents-collapsed\" style=\"\"><a class=\"filepath\" style=\"display:none\" href=\"#\">/usr/local/lib/python3.10/dist-packages/pandas/core/frame.py</a>Two-dimensional, size-mutable, potentially heterogeneous tabular data.\n",
              "\n",
              "Data structure also contains labeled axes (rows and columns).\n",
              "Arithmetic operations align on both row and column labels. Can be\n",
              "thought of as a dict-like container for Series objects. The primary\n",
              "pandas data structure.\n",
              "\n",
              "Parameters\n",
              "----------\n",
              "data : ndarray (structured or homogeneous), Iterable, dict, or DataFrame\n",
              "    Dict can contain Series, arrays, constants, dataclass or list-like objects. If\n",
              "    data is a dict, column order follows insertion-order. If a dict contains Series\n",
              "    which have an index defined, it is aligned by its index.\n",
              "\n",
              "    .. versionchanged:: 0.25.0\n",
              "       If data is a list of dicts, column order follows insertion-order.\n",
              "\n",
              "index : Index or array-like\n",
              "    Index to use for resulting frame. Will default to RangeIndex if\n",
              "    no indexing information part of input data and no index provided.\n",
              "columns : Index or array-like\n",
              "    Column labels to use for resulting frame when data does not have them,\n",
              "    defaulting to RangeIndex(0, 1, 2, ..., n). If data contains column labels,\n",
              "    will perform column selection instead.\n",
              "dtype : dtype, default None\n",
              "    Data type to force. Only a single dtype is allowed. If None, infer.\n",
              "copy : bool or None, default None\n",
              "    Copy data from inputs.\n",
              "    For dict data, the default of None behaves like ``copy=True``.  For DataFrame\n",
              "    or 2d ndarray input, the default of None behaves like ``copy=False``.\n",
              "    If data is a dict containing one or more Series (possibly of different dtypes),\n",
              "    ``copy=False`` will ensure that these inputs are not copied.\n",
              "\n",
              "    .. versionchanged:: 1.3.0\n",
              "\n",
              "See Also\n",
              "--------\n",
              "DataFrame.from_records : Constructor from tuples, also record arrays.\n",
              "DataFrame.from_dict : From dicts of Series, arrays, or dicts.\n",
              "read_csv : Read a comma-separated values (csv) file into DataFrame.\n",
              "read_table : Read general delimited file into DataFrame.\n",
              "read_clipboard : Read text from clipboard into DataFrame.\n",
              "\n",
              "Notes\n",
              "-----\n",
              "Please reference the :ref:`User Guide &lt;basics.dataframe&gt;` for more information.\n",
              "\n",
              "Examples\n",
              "--------\n",
              "Constructing DataFrame from a dictionary.\n",
              "\n",
              "&gt;&gt;&gt; d = {&#x27;col1&#x27;: [1, 2], &#x27;col2&#x27;: [3, 4]}\n",
              "&gt;&gt;&gt; df = pd.DataFrame(data=d)\n",
              "&gt;&gt;&gt; df\n",
              "   col1  col2\n",
              "0     1     3\n",
              "1     2     4\n",
              "\n",
              "Notice that the inferred dtype is int64.\n",
              "\n",
              "&gt;&gt;&gt; df.dtypes\n",
              "col1    int64\n",
              "col2    int64\n",
              "dtype: object\n",
              "\n",
              "To enforce a single dtype:\n",
              "\n",
              "&gt;&gt;&gt; df = pd.DataFrame(data=d, dtype=np.int8)\n",
              "&gt;&gt;&gt; df.dtypes\n",
              "col1    int8\n",
              "col2    int8\n",
              "dtype: object\n",
              "\n",
              "Constructing DataFrame from a dictionary including Series:\n",
              "\n",
              "&gt;&gt;&gt; d = {&#x27;col1&#x27;: [0, 1, 2, 3], &#x27;col2&#x27;: pd.Series([2, 3], index=[2, 3])}\n",
              "&gt;&gt;&gt; pd.DataFrame(data=d, index=[0, 1, 2, 3])\n",
              "   col1  col2\n",
              "0     0   NaN\n",
              "1     1   NaN\n",
              "2     2   2.0\n",
              "3     3   3.0\n",
              "\n",
              "Constructing DataFrame from numpy ndarray:\n",
              "\n",
              "&gt;&gt;&gt; df2 = pd.DataFrame(np.array([[1, 2, 3], [4, 5, 6], [7, 8, 9]]),\n",
              "...                    columns=[&#x27;a&#x27;, &#x27;b&#x27;, &#x27;c&#x27;])\n",
              "&gt;&gt;&gt; df2\n",
              "   a  b  c\n",
              "0  1  2  3\n",
              "1  4  5  6\n",
              "2  7  8  9\n",
              "\n",
              "Constructing DataFrame from a numpy ndarray that has labeled columns:\n",
              "\n",
              "&gt;&gt;&gt; data = np.array([(1, 2, 3), (4, 5, 6), (7, 8, 9)],\n",
              "...                 dtype=[(&quot;a&quot;, &quot;i4&quot;), (&quot;b&quot;, &quot;i4&quot;), (&quot;c&quot;, &quot;i4&quot;)])\n",
              "&gt;&gt;&gt; df3 = pd.DataFrame(data, columns=[&#x27;c&#x27;, &#x27;a&#x27;])\n",
              "...\n",
              "&gt;&gt;&gt; df3\n",
              "   c  a\n",
              "0  3  1\n",
              "1  6  4\n",
              "2  9  7\n",
              "\n",
              "Constructing DataFrame from dataclass:\n",
              "\n",
              "&gt;&gt;&gt; from dataclasses import make_dataclass\n",
              "&gt;&gt;&gt; Point = make_dataclass(&quot;Point&quot;, [(&quot;x&quot;, int), (&quot;y&quot;, int)])\n",
              "&gt;&gt;&gt; pd.DataFrame([Point(0, 0), Point(0, 3), Point(2, 3)])\n",
              "   x  y\n",
              "0  0  0\n",
              "1  0  3\n",
              "2  2  3</pre>\n",
              "      <script>\n",
              "      if (google.colab.kernel.accessAllowed && google.colab.files && google.colab.files.view) {\n",
              "        for (const element of document.querySelectorAll('.filepath')) {\n",
              "          element.style.display = 'block'\n",
              "          element.onclick = (event) => {\n",
              "            event.preventDefault();\n",
              "            event.stopPropagation();\n",
              "            google.colab.files.view(element.textContent, 475);\n",
              "          };\n",
              "        }\n",
              "      }\n",
              "      for (const element of document.querySelectorAll('.function-repr-contents')) {\n",
              "        element.onclick = (event) => {\n",
              "          event.preventDefault();\n",
              "          event.stopPropagation();\n",
              "          element.classList.toggle('function-repr-contents-collapsed');\n",
              "        };\n",
              "      }\n",
              "      </script>\n",
              "      </div>"
            ]
          },
          "metadata": {},
          "execution_count": 333
        }
      ]
    },
    {
      "cell_type": "code",
      "source": [
        "# print(X.head\n",
        "scaler = StandardScaler()\n",
        "X = scaler.fit_transform(X)\n",
        "# normalize(X, norm=\"l2\")\n",
        "X_train, X_test, y_train, y_test = train_test_split(X,y,test_size=0.40,random_state=10)"
      ],
      "metadata": {
        "id": "3aA5P_qDb1jY"
      },
      "execution_count": null,
      "outputs": []
    },
    {
      "cell_type": "code",
      "source": [
        "model = LogisticRegression(C=0.1,solver=\"newton-cholesky\",penalty=\"none\").fit(X_train,y_train)\n",
        "model.score(X_test,y_test)"
      ],
      "metadata": {
        "colab": {
          "base_uri": "https://localhost:8080/"
        },
        "id": "quS8lNU_b62G",
        "outputId": "7666a970-e59f-4ea7-e3c2-0b42584ceb58"
      },
      "execution_count": null,
      "outputs": [
        {
          "output_type": "stream",
          "name": "stderr",
          "text": [
            "/usr/local/lib/python3.10/dist-packages/sklearn/linear_model/_logistic.py:1173: FutureWarning: `penalty='none'`has been deprecated in 1.2 and will be removed in 1.4. To keep the past behaviour, set `penalty=None`.\n",
            "  warnings.warn(\n",
            "/usr/local/lib/python3.10/dist-packages/sklearn/linear_model/_logistic.py:1181: UserWarning: Setting penalty=None will ignore the C and l1_ratio parameters\n",
            "  warnings.warn(\n"
          ]
        },
        {
          "output_type": "execute_result",
          "data": {
            "text/plain": [
              "0.765"
            ]
          },
          "metadata": {},
          "execution_count": 335
        }
      ]
    },
    {
      "cell_type": "code",
      "source": [
        "model.score(X_train,y_train)"
      ],
      "metadata": {
        "colab": {
          "base_uri": "https://localhost:8080/"
        },
        "id": "b_Li_IhfcFBc",
        "outputId": "08d48706-56fa-45f3-f366-7ee54eb96ca6"
      },
      "execution_count": null,
      "outputs": [
        {
          "output_type": "execute_result",
          "data": {
            "text/plain": [
              "0.7616666666666667"
            ]
          },
          "metadata": {},
          "execution_count": 336
        }
      ]
    },
    {
      "cell_type": "code",
      "source": [
        "X_options = {\n",
        "    'Past Attendance Records (%)': np.array([0,100]),\n",
        "    'Course Schedule': np.array(['Morning','Afternoon', 'Evening']),\n",
        "    'Weather Conditions': np.array(['Sunny','Cloudy', 'Rainy']),\n",
        "    'Day of the Week': np.array(['Monday', 'Tuesday', 'Wednesday', 'Thursday', 'Friday']),\n",
        "    'Extracurricular Activities': np.array(['None', 'Music', 'Part-time Job','Sports']),\n",
        "    'Academic Performance': np.array(['Poor', 'Average', 'Good']),\n",
        "    'Proximity to Exams or Assignments': np.array(['Low', 'Medium', 'High']),\n",
        "    'Health Status': np.array(['Healthy', 'Unwell']),\n",
        "}"
      ],
      "metadata": {
        "id": "zwdTVYR0sWaR"
      },
      "execution_count": null,
      "outputs": []
    },
    {
      "cell_type": "code",
      "source": [
        "X_user = np.array([])\n",
        "for key,range in X_options.items():\n",
        "    print(key,\"has the range \", range)\n",
        "    ans = input(\"Enter choice: \")\n",
        "    X_user = np.append(X_user,ans)\n",
        "print(X_user)\n",
        "# X_user = scaler.transform(X[0])\n",
        "# print(model.predict(X_user.reshape(1,-1)))\n"
      ],
      "metadata": {
        "colab": {
          "base_uri": "https://localhost:8080/"
        },
        "id": "33sD64A2tkd8",
        "outputId": "45b70e0e-d546-4a87-f777-31252684e90d"
      },
      "execution_count": null,
      "outputs": [
        {
          "output_type": "stream",
          "name": "stdout",
          "text": [
            "Past Attendance Records (%) has the range  [  0 100]\n",
            "Enter choice: 98\n",
            "Course Schedule has the range  ['Morning' 'Afternoon' 'Evening']\n",
            "Enter choice: Morning\n",
            "Weather Conditions has the range  ['Sunny' 'Cloudy' 'Rainy']\n",
            "Enter choice: Rainy\n",
            "Day of the Week has the range  ['Monday' 'Tuesday' 'Wednesday' 'Thursday' 'Friday']\n",
            "Enter choice: Tuesday\n",
            "Extracurricular Activities has the range  ['None' 'Music' 'Part-time Job' 'Sports']\n",
            "Enter choice: Sports\n",
            "Academic Performance has the range  ['Poor' 'Average' 'Good']\n",
            "Enter choice: Good\n",
            "Proximity to Exams or Assignments has the range  ['Low' 'Medium' 'High']\n",
            "Enter choice: Low\n",
            "Health Status has the range  ['Healthy' 'Unwell']\n",
            "Enter choice: Healthy\n",
            "['98' 'Morning' 'Rainy' 'Tuesday' 'Sports' 'Good' 'Low' 'Healthy']\n"
          ]
        }
      ]
    },
    {
      "cell_type": "code",
      "source": [
        "X_user_selected = X_user[1:8]\n",
        "X_user_transformed = ordinal_encoder.transform(X_user_selected.reshape(1,-1))\n",
        "X_user[1:8] = X_user_transformed\n",
        "X_user_reshaped = X_user\n",
        "X_user = scaler.transform(X_user_reshaped.reshape(1,-2))"
      ],
      "metadata": {
        "colab": {
          "base_uri": "https://localhost:8080/"
        },
        "id": "bO1yjCeFr1nK",
        "outputId": "368922de-a3fc-4566-af02-4ca4858b9cf3"
      },
      "execution_count": null,
      "outputs": [
        {
          "output_type": "stream",
          "name": "stderr",
          "text": [
            "/usr/local/lib/python3.10/dist-packages/sklearn/base.py:439: UserWarning: X does not have valid feature names, but OrdinalEncoder was fitted with feature names\n",
            "  warnings.warn(\n",
            "/usr/local/lib/python3.10/dist-packages/sklearn/base.py:439: UserWarning: X does not have valid feature names, but StandardScaler was fitted with feature names\n",
            "  warnings.warn(\n"
          ]
        }
      ]
    },
    {
      "cell_type": "code",
      "source": [
        "print(model.predict(X_user.reshape(1,-1)))"
      ],
      "metadata": {
        "colab": {
          "base_uri": "https://localhost:8080/"
        },
        "id": "znAZn1pQsU9g",
        "outputId": "107db412-a60a-4188-e525-93d9bfdcfa02"
      },
      "execution_count": null,
      "outputs": [
        {
          "output_type": "stream",
          "name": "stdout",
          "text": [
            "[0]\n"
          ]
        }
      ]
    },
    {
      "cell_type": "code",
      "source": [
        "# Assuming model is your trained logistic regression model\n",
        "# X_test is your test data\n",
        "\n",
        "# Get the probability estimates for class 1 (positive class)\n",
        "y_pred_proba = model.predict_proba(X_train)[:, 1]\n",
        "y_tpred_proba = model.predict_proba(X_test)[:, 1]\n",
        "\n",
        "# Apply threshold to convert probabilities into binary predictions\n",
        "threshold = 0.6  # Change this threshold as needed\n",
        "y_tpred = (y_tpred_proba >= threshold).astype(int)\n",
        "y_pred = (y_pred_proba >= threshold).astype(int)\n",
        "print(\"Binary predictions with threshold {}: {}\\n{}\".format(threshold, y_pred,y_tpred))\n"
      ],
      "metadata": {
        "id": "A3WrsIBTshOQ",
        "colab": {
          "base_uri": "https://localhost:8080/"
        },
        "outputId": "7df93413-7cba-483f-fe4a-a80db7a6bd13"
      },
      "execution_count": null,
      "outputs": [
        {
          "output_type": "stream",
          "name": "stdout",
          "text": [
            "Binary predictions with threshold 0.6: [0 0 0 0 1 0 0 1 1 1 0 0 1 1 0 0 0 0 1 0 0 0 0 0 0 0 0 0 0 0 0 0 0 0 1 0 0\n",
            " 0 0 1 0 0 0 0 0 1 0 0 0 0 1 1 1 1 0 0 1 0 1 0 1 1 0 0 1 1 1 1 1 0 1 0 0 0\n",
            " 1 0 1 0 1 0 0 0 1 0 0 0 1 1 1 0 0 0 1 1 0 0 0 0 1 0 1 0 0 1 0 1 0 1 0 1 0\n",
            " 1 1 0 0 1 1 1 0 1 0 1 0 0 0 0 0 0 0 0 0 0 0 0 1 1 0 0 0 0 0 1 0 0 1 0 0 0\n",
            " 0 0 0 0 0 1 0 0 0 1 0 0 0 0 0 0 1 0 0 0 1 1 0 0 0 1 0 1 1 1 0 0 0 0 1 1 0\n",
            " 0 0 0 0 0 0 0 0 0 0 0 1 0 0 0 0 0 1 0 0 1 0 1 0 1 1 0 0 0 0 1 0 0 0 1 0 0\n",
            " 1 0 0 0 1 0 0 0 0 0 1 0 1 0 0 0 0 0 0 0 0 1 0 0 0 0 1 0 0 1 0 1 1 0 1 1 0\n",
            " 0 0 0 0 0 0 0 0 1 0 1 0 0 0 1 1 1 0 0 1 0 0 0 0 0 1 1 0 1 1 0 0 0 0 0 0 0\n",
            " 1 0 0 0 0 0 0 0 0 1 0 0 1 0 1 1 0 0 1 0 0 0 0 0 0 0 1 1 0 1 1 1 1 0 1 0 1\n",
            " 0 0 1 0 0 0 0 0 0 0 1 0 0 0 0 1 1 1 0 1 1 0 0 1 0 0 0 1 0 0 0 0 0 1 0 0 1\n",
            " 0 1 0 0 0 1 1 1 0 1 0 1 0 0 0 0 0 0 1 0 0 0 0 0 1 0 0 0 0 1 1 0 0 1 1 1 1\n",
            " 1 1 0 1 0 1 0 1 0 0 0 0 1 0 0 1 1 1 0 1 1 1 0 1 0 0 0 1 0 0 0 0 0 1 1 1 0\n",
            " 0 0 0 0 1 0 1 1 1 0 0 0 0 1 1 0 0 1 0 0 0 0 0 0 0 1 1 1 0 0 1 1 1 0 0 1 1\n",
            " 0 0 1 0 1 0 0 0 0 0 0 1 1 1 0 0 0 0 0 0 0 0 0 1 0 1 1 0 0 0 0 0 0 0 0 0 0\n",
            " 0 0 1 0 0 1 0 0 0 1 0 0 0 0 1 0 1 0 0 0 0 1 0 0 1 1 0 0 1 0 0 0 0 1 0 0 0\n",
            " 0 0 0 1 1 0 0 1 0 0 0 1 0 0 0 0 0 1 1 0 1 0 1 0 0 0 0 0 1 1 0 0 0 0 1 0 0\n",
            " 0 0 0 1 1 0 0 1]\n",
            "[0 1 0 0 0 1 0 0 0 0 1 1 0 0 1 1 0 1 0 1 1 0 0 0 1 0 0 1 0 0 0 0 0 0 0 1 0\n",
            " 0 0 0 0 0 1 1 1 0 1 0 0 0 0 0 1 1 1 0 1 1 0 0 0 0 1 0 0 0 1 0 0 1 1 1 1 0\n",
            " 1 0 1 1 0 0 1 1 0 0 1 1 0 1 0 0 1 1 0 0 0 0 0 0 1 0 0 0 0 0 0 0 1 1 1 0 0\n",
            " 1 0 1 0 1 0 0 0 0 0 1 0 0 0 0 0 0 0 1 0 0 0 1 0 0 0 0 1 0 0 1 0 0 0 0 1 0\n",
            " 0 0 0 1 0 0 1 0 1 0 1 0 1 0 0 0 0 1 1 0 0 1 0 0 0 0 0 1 0 0 0 1 0 1 0 1 0\n",
            " 0 0 1 0 0 1 1 1 0 0 1 0 0 1 1 0 0 0 0 1 0 0 0 0 0 0 1 0 1 0 0 0 0 0 0 0 0\n",
            " 0 1 0 0 1 0 0 0 0 0 1 0 0 1 0 0 1 0 0 0 0 1 0 1 0 0 1 0 0 0 0 1 1 0 0 1 1\n",
            " 0 0 0 0 0 0 1 0 0 0 1 0 1 0 0 0 1 0 0 1 0 0 1 1 0 0 1 0 1 0 1 0 0 1 0 0 0\n",
            " 0 1 1 1 0 0 0 0 0 0 0 0 0 0 0 0 1 0 0 0 1 0 0 0 0 1 0 1 1 0 0 0 0 0 0 0 0\n",
            " 0 1 1 0 0 0 0 1 0 0 0 0 1 0 0 0 0 1 0 1 0 0 0 1 0 1 1 0 0 0 1 1 0 0 0 1 0\n",
            " 0 0 0 0 1 0 0 1 0 0 0 1 0 0 0 0 1 0 1 1 1 0 0 0 0 0 0 0 0 0]\n"
          ]
        }
      ]
    },
    {
      "cell_type": "code",
      "source": [
        "from sklearn.metrics import accuracy_score\n",
        "\n",
        "# Assuming y_true contains the true labels and y_pred contains the predicted labels\n",
        "accuracytest = accuracy_score(y_test, y_tpred)\n",
        "accuracy = accuracy_score(y_train, y_pred)\n",
        "print(\"training accuracy:\", accuracy)\n",
        "print(\"testing accuracy:\", accuracytest)"
      ],
      "metadata": {
        "colab": {
          "base_uri": "https://localhost:8080/"
        },
        "id": "6BhcxPl9th2o",
        "outputId": "7b621dc1-25e0-4f2e-b5c7-3e27da3c7673"
      },
      "execution_count": null,
      "outputs": [
        {
          "output_type": "stream",
          "name": "stdout",
          "text": [
            "training accuracy: 0.7516666666666667\n",
            "testing accuracy: 0.77\n"
          ]
        }
      ]
    },
    {
      "cell_type": "code",
      "source": [
        "df.describe()"
      ],
      "metadata": {
        "colab": {
          "base_uri": "https://localhost:8080/",
          "height": 300
        },
        "id": "yAdT0lXvt3_T",
        "outputId": "f82fdbc7-afd4-4f93-f497-92c357cb839f"
      },
      "execution_count": null,
      "outputs": [
        {
          "output_type": "execute_result",
          "data": {
            "text/plain": [
              "       Past Attendance Records (%)       Absent\n",
              "count                  1000.000000  1000.000000\n",
              "mean                     60.552000     0.436000\n",
              "std                      22.485437     0.496135\n",
              "min                      20.000000     0.000000\n",
              "25%                      43.000000     0.000000\n",
              "50%                      56.000000     0.000000\n",
              "75%                      82.000000     1.000000\n",
              "max                      99.000000     1.000000"
            ],
            "text/html": [
              "\n",
              "  <div id=\"df-bcdb2e80-41fb-46b6-a7ca-66ab88f3c83b\" class=\"colab-df-container\">\n",
              "    <div>\n",
              "<style scoped>\n",
              "    .dataframe tbody tr th:only-of-type {\n",
              "        vertical-align: middle;\n",
              "    }\n",
              "\n",
              "    .dataframe tbody tr th {\n",
              "        vertical-align: top;\n",
              "    }\n",
              "\n",
              "    .dataframe thead th {\n",
              "        text-align: right;\n",
              "    }\n",
              "</style>\n",
              "<table border=\"1\" class=\"dataframe\">\n",
              "  <thead>\n",
              "    <tr style=\"text-align: right;\">\n",
              "      <th></th>\n",
              "      <th>Past Attendance Records (%)</th>\n",
              "      <th>Absent</th>\n",
              "    </tr>\n",
              "  </thead>\n",
              "  <tbody>\n",
              "    <tr>\n",
              "      <th>count</th>\n",
              "      <td>1000.000000</td>\n",
              "      <td>1000.000000</td>\n",
              "    </tr>\n",
              "    <tr>\n",
              "      <th>mean</th>\n",
              "      <td>60.552000</td>\n",
              "      <td>0.436000</td>\n",
              "    </tr>\n",
              "    <tr>\n",
              "      <th>std</th>\n",
              "      <td>22.485437</td>\n",
              "      <td>0.496135</td>\n",
              "    </tr>\n",
              "    <tr>\n",
              "      <th>min</th>\n",
              "      <td>20.000000</td>\n",
              "      <td>0.000000</td>\n",
              "    </tr>\n",
              "    <tr>\n",
              "      <th>25%</th>\n",
              "      <td>43.000000</td>\n",
              "      <td>0.000000</td>\n",
              "    </tr>\n",
              "    <tr>\n",
              "      <th>50%</th>\n",
              "      <td>56.000000</td>\n",
              "      <td>0.000000</td>\n",
              "    </tr>\n",
              "    <tr>\n",
              "      <th>75%</th>\n",
              "      <td>82.000000</td>\n",
              "      <td>1.000000</td>\n",
              "    </tr>\n",
              "    <tr>\n",
              "      <th>max</th>\n",
              "      <td>99.000000</td>\n",
              "      <td>1.000000</td>\n",
              "    </tr>\n",
              "  </tbody>\n",
              "</table>\n",
              "</div>\n",
              "    <div class=\"colab-df-buttons\">\n",
              "\n",
              "  <div class=\"colab-df-container\">\n",
              "    <button class=\"colab-df-convert\" onclick=\"convertToInteractive('df-bcdb2e80-41fb-46b6-a7ca-66ab88f3c83b')\"\n",
              "            title=\"Convert this dataframe to an interactive table.\"\n",
              "            style=\"display:none;\">\n",
              "\n",
              "  <svg xmlns=\"http://www.w3.org/2000/svg\" height=\"24px\" viewBox=\"0 -960 960 960\">\n",
              "    <path d=\"M120-120v-720h720v720H120Zm60-500h600v-160H180v160Zm220 220h160v-160H400v160Zm0 220h160v-160H400v160ZM180-400h160v-160H180v160Zm440 0h160v-160H620v160ZM180-180h160v-160H180v160Zm440 0h160v-160H620v160Z\"/>\n",
              "  </svg>\n",
              "    </button>\n",
              "\n",
              "  <style>\n",
              "    .colab-df-container {\n",
              "      display:flex;\n",
              "      gap: 12px;\n",
              "    }\n",
              "\n",
              "    .colab-df-convert {\n",
              "      background-color: #E8F0FE;\n",
              "      border: none;\n",
              "      border-radius: 50%;\n",
              "      cursor: pointer;\n",
              "      display: none;\n",
              "      fill: #1967D2;\n",
              "      height: 32px;\n",
              "      padding: 0 0 0 0;\n",
              "      width: 32px;\n",
              "    }\n",
              "\n",
              "    .colab-df-convert:hover {\n",
              "      background-color: #E2EBFA;\n",
              "      box-shadow: 0px 1px 2px rgba(60, 64, 67, 0.3), 0px 1px 3px 1px rgba(60, 64, 67, 0.15);\n",
              "      fill: #174EA6;\n",
              "    }\n",
              "\n",
              "    .colab-df-buttons div {\n",
              "      margin-bottom: 4px;\n",
              "    }\n",
              "\n",
              "    [theme=dark] .colab-df-convert {\n",
              "      background-color: #3B4455;\n",
              "      fill: #D2E3FC;\n",
              "    }\n",
              "\n",
              "    [theme=dark] .colab-df-convert:hover {\n",
              "      background-color: #434B5C;\n",
              "      box-shadow: 0px 1px 3px 1px rgba(0, 0, 0, 0.15);\n",
              "      filter: drop-shadow(0px 1px 2px rgba(0, 0, 0, 0.3));\n",
              "      fill: #FFFFFF;\n",
              "    }\n",
              "  </style>\n",
              "\n",
              "    <script>\n",
              "      const buttonEl =\n",
              "        document.querySelector('#df-bcdb2e80-41fb-46b6-a7ca-66ab88f3c83b button.colab-df-convert');\n",
              "      buttonEl.style.display =\n",
              "        google.colab.kernel.accessAllowed ? 'block' : 'none';\n",
              "\n",
              "      async function convertToInteractive(key) {\n",
              "        const element = document.querySelector('#df-bcdb2e80-41fb-46b6-a7ca-66ab88f3c83b');\n",
              "        const dataTable =\n",
              "          await google.colab.kernel.invokeFunction('convertToInteractive',\n",
              "                                                    [key], {});\n",
              "        if (!dataTable) return;\n",
              "\n",
              "        const docLinkHtml = 'Like what you see? Visit the ' +\n",
              "          '<a target=\"_blank\" href=https://colab.research.google.com/notebooks/data_table.ipynb>data table notebook</a>'\n",
              "          + ' to learn more about interactive tables.';\n",
              "        element.innerHTML = '';\n",
              "        dataTable['output_type'] = 'display_data';\n",
              "        await google.colab.output.renderOutput(dataTable, element);\n",
              "        const docLink = document.createElement('div');\n",
              "        docLink.innerHTML = docLinkHtml;\n",
              "        element.appendChild(docLink);\n",
              "      }\n",
              "    </script>\n",
              "  </div>\n",
              "\n",
              "\n",
              "<div id=\"df-712e1838-4713-453b-a8c3-b3fba1a41031\">\n",
              "  <button class=\"colab-df-quickchart\" onclick=\"quickchart('df-712e1838-4713-453b-a8c3-b3fba1a41031')\"\n",
              "            title=\"Suggest charts\"\n",
              "            style=\"display:none;\">\n",
              "\n",
              "<svg xmlns=\"http://www.w3.org/2000/svg\" height=\"24px\"viewBox=\"0 0 24 24\"\n",
              "     width=\"24px\">\n",
              "    <g>\n",
              "        <path d=\"M19 3H5c-1.1 0-2 .9-2 2v14c0 1.1.9 2 2 2h14c1.1 0 2-.9 2-2V5c0-1.1-.9-2-2-2zM9 17H7v-7h2v7zm4 0h-2V7h2v10zm4 0h-2v-4h2v4z\"/>\n",
              "    </g>\n",
              "</svg>\n",
              "  </button>\n",
              "\n",
              "<style>\n",
              "  .colab-df-quickchart {\n",
              "      --bg-color: #E8F0FE;\n",
              "      --fill-color: #1967D2;\n",
              "      --hover-bg-color: #E2EBFA;\n",
              "      --hover-fill-color: #174EA6;\n",
              "      --disabled-fill-color: #AAA;\n",
              "      --disabled-bg-color: #DDD;\n",
              "  }\n",
              "\n",
              "  [theme=dark] .colab-df-quickchart {\n",
              "      --bg-color: #3B4455;\n",
              "      --fill-color: #D2E3FC;\n",
              "      --hover-bg-color: #434B5C;\n",
              "      --hover-fill-color: #FFFFFF;\n",
              "      --disabled-bg-color: #3B4455;\n",
              "      --disabled-fill-color: #666;\n",
              "  }\n",
              "\n",
              "  .colab-df-quickchart {\n",
              "    background-color: var(--bg-color);\n",
              "    border: none;\n",
              "    border-radius: 50%;\n",
              "    cursor: pointer;\n",
              "    display: none;\n",
              "    fill: var(--fill-color);\n",
              "    height: 32px;\n",
              "    padding: 0;\n",
              "    width: 32px;\n",
              "  }\n",
              "\n",
              "  .colab-df-quickchart:hover {\n",
              "    background-color: var(--hover-bg-color);\n",
              "    box-shadow: 0 1px 2px rgba(60, 64, 67, 0.3), 0 1px 3px 1px rgba(60, 64, 67, 0.15);\n",
              "    fill: var(--button-hover-fill-color);\n",
              "  }\n",
              "\n",
              "  .colab-df-quickchart-complete:disabled,\n",
              "  .colab-df-quickchart-complete:disabled:hover {\n",
              "    background-color: var(--disabled-bg-color);\n",
              "    fill: var(--disabled-fill-color);\n",
              "    box-shadow: none;\n",
              "  }\n",
              "\n",
              "  .colab-df-spinner {\n",
              "    border: 2px solid var(--fill-color);\n",
              "    border-color: transparent;\n",
              "    border-bottom-color: var(--fill-color);\n",
              "    animation:\n",
              "      spin 1s steps(1) infinite;\n",
              "  }\n",
              "\n",
              "  @keyframes spin {\n",
              "    0% {\n",
              "      border-color: transparent;\n",
              "      border-bottom-color: var(--fill-color);\n",
              "      border-left-color: var(--fill-color);\n",
              "    }\n",
              "    20% {\n",
              "      border-color: transparent;\n",
              "      border-left-color: var(--fill-color);\n",
              "      border-top-color: var(--fill-color);\n",
              "    }\n",
              "    30% {\n",
              "      border-color: transparent;\n",
              "      border-left-color: var(--fill-color);\n",
              "      border-top-color: var(--fill-color);\n",
              "      border-right-color: var(--fill-color);\n",
              "    }\n",
              "    40% {\n",
              "      border-color: transparent;\n",
              "      border-right-color: var(--fill-color);\n",
              "      border-top-color: var(--fill-color);\n",
              "    }\n",
              "    60% {\n",
              "      border-color: transparent;\n",
              "      border-right-color: var(--fill-color);\n",
              "    }\n",
              "    80% {\n",
              "      border-color: transparent;\n",
              "      border-right-color: var(--fill-color);\n",
              "      border-bottom-color: var(--fill-color);\n",
              "    }\n",
              "    90% {\n",
              "      border-color: transparent;\n",
              "      border-bottom-color: var(--fill-color);\n",
              "    }\n",
              "  }\n",
              "</style>\n",
              "\n",
              "  <script>\n",
              "    async function quickchart(key) {\n",
              "      const quickchartButtonEl =\n",
              "        document.querySelector('#' + key + ' button');\n",
              "      quickchartButtonEl.disabled = true;  // To prevent multiple clicks.\n",
              "      quickchartButtonEl.classList.add('colab-df-spinner');\n",
              "      try {\n",
              "        const charts = await google.colab.kernel.invokeFunction(\n",
              "            'suggestCharts', [key], {});\n",
              "      } catch (error) {\n",
              "        console.error('Error during call to suggestCharts:', error);\n",
              "      }\n",
              "      quickchartButtonEl.classList.remove('colab-df-spinner');\n",
              "      quickchartButtonEl.classList.add('colab-df-quickchart-complete');\n",
              "    }\n",
              "    (() => {\n",
              "      let quickchartButtonEl =\n",
              "        document.querySelector('#df-712e1838-4713-453b-a8c3-b3fba1a41031 button');\n",
              "      quickchartButtonEl.style.display =\n",
              "        google.colab.kernel.accessAllowed ? 'block' : 'none';\n",
              "    })();\n",
              "  </script>\n",
              "</div>\n",
              "\n",
              "    </div>\n",
              "  </div>\n"
            ],
            "application/vnd.google.colaboratory.intrinsic+json": {
              "type": "dataframe",
              "summary": "{\n  \"name\": \"df\",\n  \"rows\": 8,\n  \"fields\": [\n    {\n      \"column\": \"Past Attendance Records (%)\",\n      \"properties\": {\n        \"dtype\": \"number\",\n        \"std\": 335.30009383296624,\n        \"min\": 20.0,\n        \"max\": 1000.0,\n        \"num_unique_values\": 8,\n        \"samples\": [\n          60.552,\n          56.0,\n          1000.0\n        ],\n        \"semantic_type\": \"\",\n        \"description\": \"\"\n      }\n    },\n    {\n      \"column\": \"Absent\",\n      \"properties\": {\n        \"dtype\": \"number\",\n        \"std\": 353.40553956480613,\n        \"min\": 0.0,\n        \"max\": 1000.0,\n        \"num_unique_values\": 5,\n        \"samples\": [\n          0.436,\n          1.0,\n          0.49613521357604745\n        ],\n        \"semantic_type\": \"\",\n        \"description\": \"\"\n      }\n    }\n  ]\n}"
            }
          },
          "metadata": {},
          "execution_count": 346
        }
      ]
    },
    {
      "cell_type": "code",
      "source": [],
      "metadata": {
        "id": "xXcZXuaKLDI2"
      },
      "execution_count": null,
      "outputs": []
    }
  ]
}